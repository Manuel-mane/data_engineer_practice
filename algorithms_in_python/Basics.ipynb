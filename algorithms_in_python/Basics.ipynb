{
 "cells": [
  {
   "cell_type": "markdown",
   "metadata": {},
   "source": [
    "# Guided Project: Building Fast Queries on a CSV\n",
    "\n",
    "In this project I will use a csv file adapted from the [Laptop Prices dataset on Kaggle](https://www.kaggle.com/ionaskel/laptop-prices). The IDs have changed and the prices are made integers.\n",
    "\n",
    "\n",
    "## Variable Descriptions:\n",
    "\n",
    "**ID:** A unique identifier for the laptop.\n",
    "\n",
    "**Company:** The name of the company that produces the laptop.\n",
    "\n",
    "**Product:** The name of the laptop.\n",
    "\n",
    "**TypeName:** The type of laptop.\n",
    "\n",
    "**Inches:** The size of the screen in inches.\n",
    "\n",
    "**ScreenResolution:** The resolution of the screen.\n",
    "\n",
    "**CPU:** The laptop CPU.\n",
    "\n",
    "**RAM:** The amount of RAM in the laptop.\n",
    "\n",
    "**Memory:** The size of the hard drive.\n",
    "\n",
    "**GPU:** The graphics card name.\n",
    "\n",
    "**OpSys:** The name of the operating system.\n",
    "\n",
    "**Weight:** The laptop weight.\n",
    "\n",
    "**Price:** The price of the laptop.\n",
    "\n",
    "\n",
    "## Goal of the project\n",
    "\n",
    "The goal of this guided project is to create a class that represents our inventory. The methods in that class will implement the queries that we want to answer about our inventory. We will also preprocess that data to make those queries run faster.\n",
    "\n",
    "Here are some queries that we will want to answer:\n",
    "\n",
    "Given a laptop id, find the corresponding data.\n",
    "\n",
    "Given an amount of money, find whether there are two laptops whose total price is that given amount.\n",
    "\n",
    "Identify all laptops whose price falls within a given budget."
   ]
  },
  {
   "cell_type": "markdown",
   "metadata": {},
   "source": [
    "#### Exploring the data"
   ]
  },
  {
   "cell_type": "code",
   "execution_count": 1,
   "metadata": {},
   "outputs": [],
   "source": [
    "import csv"
   ]
  },
  {
   "cell_type": "code",
   "execution_count": 6,
   "metadata": {},
   "outputs": [],
   "source": [
    "with open('laptops.csv', encoding='utf8') as f:\n",
    "    file = list(csv.reader(f))\n",
    "    header = file[0]\n",
    "    rows = file[1:]"
   ]
  },
  {
   "cell_type": "code",
   "execution_count": 7,
   "metadata": {},
   "outputs": [
    {
     "data": {
      "text/plain": [
       "['Id',\n",
       " 'Company',\n",
       " 'Product',\n",
       " 'TypeName',\n",
       " 'Inches',\n",
       " 'ScreenResolution',\n",
       " 'Cpu',\n",
       " 'Ram',\n",
       " 'Memory',\n",
       " 'Gpu',\n",
       " 'OpSys',\n",
       " 'Weight',\n",
       " 'Price']"
      ]
     },
     "execution_count": 7,
     "metadata": {},
     "output_type": "execute_result"
    }
   ],
   "source": [
    "header"
   ]
  },
  {
   "cell_type": "code",
   "execution_count": 8,
   "metadata": {},
   "outputs": [
    {
     "data": {
      "text/plain": [
       "[['6571244',\n",
       "  'Apple',\n",
       "  'MacBook Pro',\n",
       "  'Ultrabook',\n",
       "  '13.3',\n",
       "  'IPS Panel Retina Display 2560x1600',\n",
       "  'Intel Core i5 2.3GHz',\n",
       "  '8GB',\n",
       "  '128GB SSD',\n",
       "  'Intel Iris Plus Graphics 640',\n",
       "  'macOS',\n",
       "  '1.37kg',\n",
       "  '1339'],\n",
       " ['7287764',\n",
       "  'Apple',\n",
       "  'Macbook Air',\n",
       "  'Ultrabook',\n",
       "  '13.3',\n",
       "  '1440x900',\n",
       "  'Intel Core i5 1.8GHz',\n",
       "  '8GB',\n",
       "  '128GB Flash Storage',\n",
       "  'Intel HD Graphics 6000',\n",
       "  'macOS',\n",
       "  '1.34kg',\n",
       "  '898'],\n",
       " ['3362737',\n",
       "  'HP',\n",
       "  '250 G6',\n",
       "  'Notebook',\n",
       "  '15.6',\n",
       "  'Full HD 1920x1080',\n",
       "  'Intel Core i5 7200U 2.5GHz',\n",
       "  '8GB',\n",
       "  '256GB SSD',\n",
       "  'Intel HD Graphics 620',\n",
       "  'No OS',\n",
       "  '1.86kg',\n",
       "  '575'],\n",
       " ['9722156',\n",
       "  'Apple',\n",
       "  'MacBook Pro',\n",
       "  'Ultrabook',\n",
       "  '15.4',\n",
       "  'IPS Panel Retina Display 2880x1800',\n",
       "  'Intel Core i7 2.7GHz',\n",
       "  '16GB',\n",
       "  '512GB SSD',\n",
       "  'AMD Radeon Pro 455',\n",
       "  'macOS',\n",
       "  '1.83kg',\n",
       "  '2537'],\n",
       " ['8550527',\n",
       "  'Apple',\n",
       "  'MacBook Pro',\n",
       "  'Ultrabook',\n",
       "  '13.3',\n",
       "  'IPS Panel Retina Display 2560x1600',\n",
       "  'Intel Core i5 3.1GHz',\n",
       "  '8GB',\n",
       "  '256GB SSD',\n",
       "  'Intel Iris Plus Graphics 650',\n",
       "  'macOS',\n",
       "  '1.37kg',\n",
       "  '1803']]"
      ]
     },
     "execution_count": 8,
     "metadata": {},
     "output_type": "execute_result"
    }
   ],
   "source": [
    "rows[:5]"
   ]
  },
  {
   "cell_type": "code",
   "execution_count": 11,
   "metadata": {},
   "outputs": [],
   "source": [
    "class Inventory():\n",
    "    def __init__(self, csv_filename):\n",
    "        with open(csv_filename) as f:\n",
    "            file = list(csv.reader(f))\n",
    "            self.header = file[0]\n",
    "            self.rows = file[1:]\n",
    "            for row in self.rows:\n",
    "                row[-1] = int(row[-1])"
   ]
  },
  {
   "cell_type": "code",
   "execution_count": 12,
   "metadata": {},
   "outputs": [],
   "source": [
    "instance = Inventory('laptops.csv')"
   ]
  },
  {
   "cell_type": "code",
   "execution_count": 13,
   "metadata": {},
   "outputs": [
    {
     "data": {
      "text/plain": [
       "['Id',\n",
       " 'Company',\n",
       " 'Product',\n",
       " 'TypeName',\n",
       " 'Inches',\n",
       " 'ScreenResolution',\n",
       " 'Cpu',\n",
       " 'Ram',\n",
       " 'Memory',\n",
       " 'Gpu',\n",
       " 'OpSys',\n",
       " 'Weight',\n",
       " 'Price']"
      ]
     },
     "execution_count": 13,
     "metadata": {},
     "output_type": "execute_result"
    }
   ],
   "source": [
    "instance.header"
   ]
  },
  {
   "cell_type": "code",
   "execution_count": 14,
   "metadata": {},
   "outputs": [
    {
     "data": {
      "text/plain": [
       "1303"
      ]
     },
     "execution_count": 14,
     "metadata": {},
     "output_type": "execute_result"
    }
   ],
   "source": [
    "len(instance.rows)"
   ]
  },
  {
   "cell_type": "code",
   "execution_count": 17,
   "metadata": {},
   "outputs": [],
   "source": [
    "# Creating a function to extract the information of the laptop according to the id\n",
    "\n",
    "class Inventory():\n",
    "    def __init__(self, csv_filename):\n",
    "        with open(csv_filename) as f:\n",
    "            file = list(csv.reader(f))\n",
    "            self.header = file[0]\n",
    "            self.rows = file[1:]\n",
    "            for row in self.rows:\n",
    "                row[-1] = int(row[-1])\n",
    "                \n",
    "    def get_laptop_from_id(self, laptop_id):\n",
    "        for row in self.rows:\n",
    "            if row[0] == laptop_id:\n",
    "                return row\n",
    "        return None\n"
   ]
  },
  {
   "cell_type": "code",
   "execution_count": 18,
   "metadata": {},
   "outputs": [],
   "source": [
    "instance_test = Inventory('laptops.csv')\n"
   ]
  },
  {
   "cell_type": "code",
   "execution_count": 19,
   "metadata": {},
   "outputs": [
    {
     "data": {
      "text/plain": [
       "['3362737',\n",
       " 'HP',\n",
       " '250 G6',\n",
       " 'Notebook',\n",
       " '15.6',\n",
       " 'Full HD 1920x1080',\n",
       " 'Intel Core i5 7200U 2.5GHz',\n",
       " '8GB',\n",
       " '256GB SSD',\n",
       " 'Intel HD Graphics 620',\n",
       " 'No OS',\n",
       " '1.86kg',\n",
       " 575]"
      ]
     },
     "execution_count": 19,
     "metadata": {},
     "output_type": "execute_result"
    }
   ],
   "source": [
    "instance_test.get_laptop_from_id('3362737')"
   ]
  },
  {
   "cell_type": "code",
   "execution_count": 21,
   "metadata": {},
   "outputs": [
    {
     "name": "stdout",
     "output_type": "stream",
     "text": [
      "None\n"
     ]
    }
   ],
   "source": [
    "print(instance_test.get_laptop_from_id('3362736'))"
   ]
  },
  {
   "cell_type": "markdown",
   "metadata": {},
   "source": [
    "#### Notes:\n",
    "\n",
    "The algorithm from the previous requires us to look at every single row to find the one that we are looking for (or decide that such a row does not exist). This algorithm has time complexity O(R) where R is the number of rows.\n",
    "\n",
    "We've learned, in this mission, that we can solve this problem more efficiently by preprocessing the data. Using a set, we can check in constant time whether a given identifier exists. However, we don't just want to know if it exists, we also want to retrieve the remaining row information. Therefore, we will use a dictionary instead of a set. Dictionaries have the same fast lookup properties that sets have, but allow us to associate values to the keys.\n",
    "\n",
    "In our dataset, we only have about 1,300 laptops, so it might seem unnecessary to improve the performance of this query. However, you have to imagine that this code could be used in situations where the inventory contains millions of rows. Also, if we perform a lot of queries, even on a small dataset, the slow query performance will start to add up. It might eventually become the bottleneck of the application.\n",
    "\n",
    "The idea is proceprocess the data into a dictionary where the keys are the IDs and the values the rows. Then, we will use that dictionary in the get_laptop_from_id() method. We can do this by:\n",
    "\n",
    "Preprocess the data and create the dictionary in the __init__() method.\n",
    "Re-implement the get_laptop_from_id() method. We will do it as a new method so that we can compare the two."
   ]
  },
  {
   "cell_type": "code",
   "execution_count": 22,
   "metadata": {},
   "outputs": [],
   "source": [
    "# Adding efficiency to the class\n",
    "\n",
    "class Inventory():\n",
    "    def __init__(self, csv_filename):\n",
    "        self.id_to_row = dict()\n",
    "        with open(csv_filename) as f:\n",
    "            file = list(csv.reader(f))\n",
    "            self.header = file[0]\n",
    "            self.rows = file[1:]\n",
    "            for row in self.rows:\n",
    "                row[-1] = int(row[-1])\n",
    "                self.id_to_row[row[0]] = row\n",
    "                \n",
    "    def get_laptop_from_id(self, laptop_id):\n",
    "        for row in self.rows:\n",
    "            if row[0] == laptop_id:\n",
    "                return row\n",
    "        return None\n",
    "    \n",
    "    def get_laptop_from_id_fast(self, laptop_id):\n",
    "        if laptop_id in self.id_to_row.keys():\n",
    "            return self.id_to_row[laptop_id]\n",
    "        else: \n",
    "            None\n"
   ]
  },
  {
   "cell_type": "code",
   "execution_count": 23,
   "metadata": {},
   "outputs": [],
   "source": [
    "instance = Inventory('laptops.csv')"
   ]
  },
  {
   "cell_type": "code",
   "execution_count": 24,
   "metadata": {},
   "outputs": [
    {
     "data": {
      "text/plain": [
       "['3362737',\n",
       " 'HP',\n",
       " '250 G6',\n",
       " 'Notebook',\n",
       " '15.6',\n",
       " 'Full HD 1920x1080',\n",
       " 'Intel Core i5 7200U 2.5GHz',\n",
       " '8GB',\n",
       " '256GB SSD',\n",
       " 'Intel HD Graphics 620',\n",
       " 'No OS',\n",
       " '1.86kg',\n",
       " 575]"
      ]
     },
     "execution_count": 24,
     "metadata": {},
     "output_type": "execute_result"
    }
   ],
   "source": [
    "# Testing the new class\n",
    "instance.get_laptop_from_id_fast('3362737')"
   ]
  },
  {
   "cell_type": "code",
   "execution_count": 26,
   "metadata": {},
   "outputs": [
    {
     "name": "stdout",
     "output_type": "stream",
     "text": [
      "None\n"
     ]
    }
   ],
   "source": [
    "print(instance.get_laptop_from_id_fast('3362736'))"
   ]
  },
  {
   "cell_type": "markdown",
   "metadata": {},
   "source": [
    "### Conclusions of last step:\n",
    "\n",
    "The get_laptop_from_id() method has time complexity O(R) where R is the number of rows. In contrast, the new implementation as time complexity O(1). It does so by using more memory to store the self.id_to_row dictionary and using a bit more time creating an instance (because it needs to create the dictionary).\n",
    "\n",
    "\n",
    "### Next Step:\n",
    "\n",
    "Let's experiment to compare the performance of the two methods. The idea is to generate random IDs using the random module. Then, use both methods to lookup these same IDs. We will use the time module to measure the execution time of each lookup and, for each method, add all times together.\n"
   ]
  },
  {
   "cell_type": "code",
   "execution_count": 27,
   "metadata": {},
   "outputs": [],
   "source": [
    "import time\n",
    "import random"
   ]
  },
  {
   "cell_type": "code",
   "execution_count": 29,
   "metadata": {},
   "outputs": [],
   "source": [
    "ids = [str(random.randint(1000000, 9999999)) for _ in range(10_000)]"
   ]
  },
  {
   "cell_type": "code",
   "execution_count": 30,
   "metadata": {},
   "outputs": [],
   "source": [
    "# Testing with the previously created class\n",
    "instance = Inventory(\"laptops.csv\")"
   ]
  },
  {
   "cell_type": "code",
   "execution_count": 31,
   "metadata": {},
   "outputs": [],
   "source": [
    "# Creating variable to aggregate the times of calling get_laptop_from_id()\n",
    "total_time_no_dict = 0\n"
   ]
  },
  {
   "cell_type": "code",
   "execution_count": 32,
   "metadata": {},
   "outputs": [],
   "source": [
    "for id in ids:\n",
    "    start = time.time()\n",
    "    instance.get_laptop_from_id(id)\n",
    "    end = time.time()\n",
    "    total_time_no_dict += (end-start)"
   ]
  },
  {
   "cell_type": "code",
   "execution_count": 33,
   "metadata": {},
   "outputs": [],
   "source": [
    "total_time_dict = 0\n",
    "for id in ids:\n",
    "    start = time.time()\n",
    "    instance.get_laptop_from_id_fast(id)\n",
    "    end = time.time()\n",
    "    total_time_dict += (end-start)"
   ]
  },
  {
   "cell_type": "code",
   "execution_count": 35,
   "metadata": {},
   "outputs": [
    {
     "data": {
      "text/plain": [
       "(0.0060214996337890625, 0.9624409675598145)"
      ]
     },
     "execution_count": 35,
     "metadata": {},
     "output_type": "execute_result"
    }
   ],
   "source": [
    "# Printing the total time using both functions\n",
    "total_time_dict, total_time_no_dict"
   ]
  },
  {
   "cell_type": "markdown",
   "metadata": {},
   "source": [
    "# Exercise 2 Situation:\n",
    "\n",
    "Sometimes, your store offers a promotion where you give a gift card. A customer can use the gift to buy up to two laptops. To avoid having to keep track of what was already spent, the gift card has a single time usage. This means that, even if there is leftover money, it cannot be used anymore.\n",
    "\n",
    "For example, imagine that there are only three laptops in inventory.\n",
    "The prices of these laptops are 1,339, 898, and 575. Say we offered a gift card of 2,500. Since a customer can buy, at most, two laptops with a gift card, the maximum they can spend is 2,237 (1,339 plus 898). Therefore, they might feel cheated because, no matter how they spend their gift card, they cannot spend the full 2,500.\n",
    "\n",
    "You don't want to make a customer feel cheated, so whenever you issue a gift card, you want to make sure that there is at least one way to spend it in full. In other words, before issuing a gift card for D dollars, you want to make sure that either there is a laptop that costs exactly D dollars or two laptops whose costs add up to precisely D dollars.\n",
    "\n",
    "Write a function that, given a dollar amount, checks whether it is possible to spend precisely that amount by purchasing up to two laptops."
   ]
  },
  {
   "cell_type": "code",
   "execution_count": 39,
   "metadata": {},
   "outputs": [],
   "source": [
    "# Adding a method check_promotion_dollars() that takes two arguments: \n",
    "# self and dollars.\n",
    "\n",
    "class Inventory():\n",
    "    def __init__(self, csv_filename):\n",
    "        self.id_to_row = dict()\n",
    "        with open(csv_filename) as f:\n",
    "            file = list(csv.reader(f))\n",
    "            self.header = file[0]\n",
    "            self.rows = file[1:]\n",
    "            for row in self.rows:\n",
    "                row[-1] = int(row[-1])\n",
    "                self.id_to_row[row[0]] = row\n",
    "                \n",
    "    def get_laptop_from_id(self, laptop_id):\n",
    "        for row in self.rows:\n",
    "            if row[0] == laptop_id:\n",
    "                return row\n",
    "        return None\n",
    "    \n",
    "    def get_laptop_from_id_fast(self, laptop_id):\n",
    "        if laptop_id in self.id_to_row.keys():\n",
    "            return self.id_to_row[laptop_id]\n",
    "        else: \n",
    "            None\n",
    "            \n",
    "    def check_promotion_dollars(self, dollars):\n",
    "        for row in self.rows:\n",
    "            if row[-1] == dollars:\n",
    "                return True\n",
    "        \n",
    "        for row in self.rows:\n",
    "            for row_2 in self.rows:\n",
    "                if(row_2[-1] + row[-1])==dollars:\n",
    "                    return True\n",
    "            return False\n",
    "    \n",
    "                        "
   ]
  },
  {
   "cell_type": "code",
   "execution_count": 40,
   "metadata": {},
   "outputs": [],
   "source": [
    "# Testing the last addition\n",
    "instance = Inventory('laptops.csv')"
   ]
  },
  {
   "cell_type": "code",
   "execution_count": 41,
   "metadata": {},
   "outputs": [
    {
     "data": {
      "text/plain": [
       "True"
      ]
     },
     "execution_count": 41,
     "metadata": {},
     "output_type": "execute_result"
    }
   ],
   "source": [
    "instance.check_promotion_dollars(1000)"
   ]
  },
  {
   "cell_type": "code",
   "execution_count": 43,
   "metadata": {},
   "outputs": [
    {
     "data": {
      "text/plain": [
       "False"
      ]
     },
     "execution_count": 43,
     "metadata": {},
     "output_type": "execute_result"
    }
   ],
   "source": [
    "instance.check_promotion_dollars(442)"
   ]
  },
  {
   "cell_type": "markdown",
   "metadata": {},
   "source": [
    "### Improving the last method:"
   ]
  },
  {
   "cell_type": "markdown",
   "metadata": {},
   "source": [
    "In the previous mission, we've learned how we can preprocess data to answer the kind of queries that we used in the check_promotion_dollars(). Let's implement this to make our code run faster.\n",
    "\n",
    "Since we only care about whether or not there is a solution, we can store all laptops prices in a set when we initialize the inventory. Then we can check in constant time whether there is a laptop with a given price.\n",
    "\n",
    "To check if there is a pair of laptops can be done in the same way as we've learned in the last mission."
   ]
  },
  {
   "cell_type": "code",
   "execution_count": 61,
   "metadata": {},
   "outputs": [],
   "source": [
    "# Adding a method check_promotion_dollars_fast() that takes two arguments: \n",
    "# self and dollars.\n",
    "\n",
    "class Inventory():\n",
    "    def __init__(self, csv_filename):\n",
    "        self.id_to_row = dict()\n",
    "        self.prices = set()\n",
    "        with open(csv_filename) as f:\n",
    "            file = list(csv.reader(f))\n",
    "            self.header = file[0]\n",
    "            self.rows = file[1:]\n",
    "            for row in self.rows:\n",
    "                row[-1] = int(row[-1])\n",
    "                self.id_to_row[row[0]] = row\n",
    "                self.prices.add(row[-1])\n",
    "                \n",
    "    def get_laptop_from_id(self, laptop_id):\n",
    "        for row in self.rows:\n",
    "            if row[0] == laptop_id:\n",
    "                return row\n",
    "        return None\n",
    "    \n",
    "    def get_laptop_from_id_fast(self, laptop_id):\n",
    "        if laptop_id in self.id_to_row.keys():\n",
    "            return self.id_to_row[laptop_id]\n",
    "        else: \n",
    "            None\n",
    "            \n",
    "    def check_promotion_dollars(self, dollars):\n",
    "        for row in self.rows:\n",
    "            if row[-1] == dollars:\n",
    "                return True\n",
    "        \n",
    "        for row in self.rows:\n",
    "            for row_2 in self.rows:\n",
    "                if(row_2[-1] + row[-1])==dollars:\n",
    "                    return True\n",
    "        return False\n",
    "        \n",
    "    def check_promotion_dollars_fast(self, dollars):\n",
    "        if dollars in self.prices:\n",
    "            return True\n",
    "        for price in self.prices:\n",
    "            for price2 in self.prices:\n",
    "                if(price2 + price) == dollars:\n",
    "                    return True\n",
    "        return False"
   ]
  },
  {
   "cell_type": "code",
   "execution_count": 62,
   "metadata": {},
   "outputs": [],
   "source": [
    "# Testing the latest addition\n",
    "instance = Inventory(\"laptops.csv\")"
   ]
  },
  {
   "cell_type": "code",
   "execution_count": 46,
   "metadata": {},
   "outputs": [
    {
     "data": {
      "text/plain": [
       "True"
      ]
     },
     "execution_count": 46,
     "metadata": {},
     "output_type": "execute_result"
    }
   ],
   "source": [
    "instance.check_promotion_dollars_fast(1000)"
   ]
  },
  {
   "cell_type": "code",
   "execution_count": 47,
   "metadata": {},
   "outputs": [
    {
     "data": {
      "text/plain": [
       "False"
      ]
     },
     "execution_count": 47,
     "metadata": {},
     "output_type": "execute_result"
    }
   ],
   "source": [
    "instance.check_promotion_dollars_fast(442)"
   ]
  },
  {
   "cell_type": "markdown",
   "metadata": {},
   "source": [
    "#### Comparing the performance of the last two methods"
   ]
  },
  {
   "cell_type": "code",
   "execution_count": 48,
   "metadata": {},
   "outputs": [],
   "source": [
    "prices = [random.randint(100, 5000) for _ in range(100)]"
   ]
  },
  {
   "cell_type": "code",
   "execution_count": 63,
   "metadata": {},
   "outputs": [],
   "source": [
    "# creating a variable that will aggregate the times of calling\n",
    "# check_promotion_dollars()\n",
    "total_time_no_set = 0\n",
    "for price in prices:\n",
    "    start = time.time()\n",
    "    instance.check_promotion_dollars(price)\n",
    "    end = time.time()\n",
    "    total_time_no_set += (end-start)"
   ]
  },
  {
   "cell_type": "code",
   "execution_count": 64,
   "metadata": {},
   "outputs": [],
   "source": [
    "total_time_set = 0\n",
    "for price in prices:\n",
    "    start = time.time()\n",
    "    instance.check_promotion_dollars_fast(price)\n",
    "    end = time.time()\n",
    "    total_time_set += (end-start)"
   ]
  },
  {
   "cell_type": "code",
   "execution_count": 65,
   "metadata": {},
   "outputs": [
    {
     "name": "stdout",
     "output_type": "stream",
     "text": [
      "2.4783623218536377 0.43169093132019043\n"
     ]
    }
   ],
   "source": [
    "print(total_time_no_set, total_time_set)"
   ]
  },
  {
   "cell_type": "markdown",
   "metadata": {},
   "source": [
    "## Using Binary Search\n",
    "\n",
    "I am going to leverage and extend the algorithm to help a customer find all laptops that fall within their budget.\n",
    "\n",
    "More formally, I want to write a method that efficiently answers the query: Given a budget of D dollars, find all laptops whose price it at most D.\n",
    "\n",
    "If I sort all laptops by price, I can use binary search to identify the first laptop in the sorted list with a price larger than D. I need to make sure that my binary search finds the first one on the list. Then, the result of the query will consist of all laptops whose index in the sorted list is smaller than the index of the first laptop whose price is higher than D dollars"
   ]
  },
  {
   "cell_type": "code",
   "execution_count": 80,
   "metadata": {},
   "outputs": [],
   "source": [
    "class Inventory():\n",
    "    def __init__(self, csv_filename):\n",
    "        self.id_to_row = dict()\n",
    "        self.prices = set()\n",
    "        with open(csv_filename) as f:\n",
    "            file = list(csv.reader(f))\n",
    "            self.header = file[0]\n",
    "            self.rows = file[1:]\n",
    "            for row in self.rows:\n",
    "                row[-1] = int(row[-1])\n",
    "                self.id_to_row[row[0]] = row\n",
    "                self.prices.add(row[-1])\n",
    "        \n",
    "        def row_price(row):\n",
    "            return row[-1]\n",
    "        self.row_by_price = sorted(self.rows, key=row_price)\n",
    "    \n",
    "    \n",
    "                \n",
    "    def get_laptop_from_id(self, laptop_id):\n",
    "        for row in self.rows:\n",
    "            if row[0] == laptop_id:\n",
    "                return row\n",
    "        return None\n",
    "    \n",
    "    def get_laptop_from_id_fast(self, laptop_id):\n",
    "        if laptop_id in self.id_to_row.keys():\n",
    "            return self.id_to_row[laptop_id]\n",
    "        else: \n",
    "            None\n",
    "            \n",
    "    def check_promotion_dollars(self, dollars):\n",
    "        for row in self.rows:\n",
    "            if row[-1] == dollars:\n",
    "                return True\n",
    "        \n",
    "        for row in self.rows:\n",
    "            for row_2 in self.rows:\n",
    "                if(row_2[-1] + row[-1])==dollars:\n",
    "                    return True\n",
    "        return False\n",
    "        \n",
    "    def check_promotion_dollars_fast(self, dollars):\n",
    "        if dollars in self.prices:\n",
    "            return True\n",
    "        for price in self.prices:\n",
    "            for price2 in self.prices:\n",
    "                if(price2 + price) == dollars:\n",
    "                    return True\n",
    "        return False\n",
    "    \n",
    "    # Adding method for binary search\n",
    "    def find_first_laptop_more_expensive(self, price):\n",
    "        range_start = 0\n",
    "        range_end = len(self.row_by_price) - 1\n",
    "        \n",
    "        while range_start < range_end:\n",
    "            range_middle = (range_start + range_end)//2\n",
    "            new_price = self.row_by_price[range_middle][-1]\n",
    "            \n",
    "                            \n",
    "            \n",
    "            \n",
    "            elif new_price >= price:\n",
    "                range_end = range_middle\n",
    "            else:\n",
    "                range_start = range_middle+1\n",
    "                \n",
    "        if self.row_by_price[range_start][-1] > price:\n",
    "            return range_start\n",
    "        else:\n",
    "            return -1\n",
    "        "
   ]
  },
  {
   "cell_type": "code",
   "execution_count": 81,
   "metadata": {},
   "outputs": [],
   "source": [
    "# testing\n",
    "instance = Inventory('laptops.csv')"
   ]
  },
  {
   "cell_type": "code",
   "execution_count": 82,
   "metadata": {},
   "outputs": [
    {
     "name": "stdout",
     "output_type": "stream",
     "text": [
      "683\n"
     ]
    }
   ],
   "source": [
    "print(instance.find_first_laptop_more_expensive(1000))"
   ]
  },
  {
   "cell_type": "code",
   "execution_count": 83,
   "metadata": {},
   "outputs": [
    {
     "name": "stdout",
     "output_type": "stream",
     "text": [
      "-1\n"
     ]
    }
   ],
   "source": [
    "print(instance.find_first_laptop_more_expensive(10000))"
   ]
  },
  {
   "cell_type": "markdown",
   "metadata": {},
   "source": [
    "## Pushing the project further\n",
    "\n",
    "If you want to push this project further, we suggest that you think about the following queries:\n",
    "\n",
    "Imagine that we extend our budget query to take as input a range of prices, min_price and max_price, rather than a single price. Write a query that finds all laptops whose price is in the given range.\n",
    "Sometimes, a customer wants a laptop with some characteristics such as, for instance, 8GB or RAM and a 256GB hard drive. It would be interesting for those customers to provide a way to find the cheapest laptop that matches the desired characteristics. For simplicity, focus only on the amount of RAM and hard drive capacity. You might need to convert those values to integers rather than using strings."
   ]
  },
  {
   "cell_type": "code",
   "execution_count": null,
   "metadata": {},
   "outputs": [],
   "source": []
  }
 ],
 "metadata": {
  "kernelspec": {
   "display_name": "Python 3",
   "language": "python",
   "name": "python3"
  },
  "language_info": {
   "codemirror_mode": {
    "name": "ipython",
    "version": 3
   },
   "file_extension": ".py",
   "mimetype": "text/x-python",
   "name": "python",
   "nbconvert_exporter": "python",
   "pygments_lexer": "ipython3",
   "version": "3.8.2"
  }
 },
 "nbformat": 4,
 "nbformat_minor": 2
}
